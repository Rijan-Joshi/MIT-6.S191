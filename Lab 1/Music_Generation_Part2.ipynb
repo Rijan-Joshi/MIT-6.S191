{
 "cells": [
  {
   "cell_type": "code",
   "execution_count": 1,
   "id": "470a73bb-7d8b-426a-bcad-de8ef2c90bd7",
   "metadata": {},
   "outputs": [
    {
     "name": "stdout",
     "output_type": "stream",
     "text": [
      "Note: you may need to restart the kernel to use updated packages.\n",
      "Note: you may need to restart the kernel to use updated packages.\n"
     ]
    }
   ],
   "source": [
    "%pip install comet_ml > NUL 2>&1\n",
    "%pip install mitdeeplearning --quiet"
   ]
  },
  {
   "cell_type": "code",
   "execution_count": 2,
   "id": "b381cbde-bc26-477f-9902-df0679c62600",
   "metadata": {},
   "outputs": [],
   "source": [
    "COMET_API_KEY = \"Xs9MV018QryqpPrEQ7ERZDLDX\"\n",
    "\n",
    "import tensorflow as tf\n",
    "import mitdeeplearning as mdl"
   ]
  },
  {
   "cell_type": "code",
   "execution_count": 3,
   "id": "8e94448c-72bb-4d50-b4ab-276b055628f3",
   "metadata": {},
   "outputs": [
    {
     "name": "stdout",
     "output_type": "stream",
     "text": [
      "Found 817 songs in text\n",
      "Example Song:\n",
      " X:2\n",
      "T:An Buachaill Dreoite\n",
      "Z: id:dc-hornpipe-2\n",
      "M:C|\n",
      "L:1/8\n",
      "K:G Major\n",
      "GF|DGGB d2GB|d2GF Gc (3AGF|DGGB d2GB|dBcA F2GF|!\n",
      "DGGB d2GF|DGGF G2Ge|fgaf gbag|fdcA G2:|!\n",
      "GA|B2BG c2cA|d2GF G2GA|B2BG c2cA|d2DE F2GA|!\n",
      "B2BG c2cA|d^cde f2 (3def|g2gf gbag|fdcA G2:|!\n"
     ]
    }
   ],
   "source": [
    "songs = mdl.lab1.load_training_data()\n",
    "\n",
    "example_song = songs[1]\n",
    "print(\"Example Song:\\n\", example_song)"
   ]
  },
  {
   "cell_type": "code",
   "execution_count": 4,
   "id": "f1cf7021-cb09-4985-95a9-582166879889",
   "metadata": {},
   "outputs": [],
   "source": [
    "mdl.lab1.play_song(example_song)"
   ]
  },
  {
   "cell_type": "code",
   "execution_count": 5,
   "id": "ddae9266-8947-4e66-b196-c86916b1666e",
   "metadata": {},
   "outputs": [],
   "source": [
    "songs_joined = \"\\n\\n\\n\".join(songs)\n",
    "\n"
   ]
  },
  {
   "cell_type": "code",
   "execution_count": null,
   "id": "dbd2d58b-9698-4f62-b270-35f7ff176076",
   "metadata": {},
   "outputs": [],
   "source": []
  },
  {
   "cell_type": "code",
   "execution_count": null,
   "id": "be38d78c-38cb-42e1-889c-88f6ea611559",
   "metadata": {},
   "outputs": [],
   "source": []
  }
 ],
 "metadata": {
  "kernelspec": {
   "display_name": "Python 3 (ipykernel)",
   "language": "python",
   "name": "python3"
  },
  "language_info": {
   "codemirror_mode": {
    "name": "ipython",
    "version": 3
   },
   "file_extension": ".py",
   "mimetype": "text/x-python",
   "name": "python",
   "nbconvert_exporter": "python",
   "pygments_lexer": "ipython3",
   "version": "3.12.8"
  }
 },
 "nbformat": 4,
 "nbformat_minor": 5
}
